{
 "cells": [
  {
   "cell_type": "code",
   "execution_count": 1,
   "metadata": {
    "scrolled": false
   },
   "outputs": [
    {
     "data": {
      "text/html": [
       "<div>\n",
       "<style scoped>\n",
       "    .dataframe tbody tr th:only-of-type {\n",
       "        vertical-align: middle;\n",
       "    }\n",
       "\n",
       "    .dataframe tbody tr th {\n",
       "        vertical-align: top;\n",
       "    }\n",
       "\n",
       "    .dataframe thead th {\n",
       "        text-align: right;\n",
       "    }\n",
       "</style>\n",
       "<table border=\"1\" class=\"dataframe\">\n",
       "  <thead>\n",
       "    <tr style=\"text-align: right;\">\n",
       "      <th></th>\n",
       "      <th>id</th>\n",
       "      <th>Profession</th>\n",
       "      <th>Skill_Percentage_Required</th>\n",
       "      <th>Percentage</th>\n",
       "      <th>Recommended</th>\n",
       "    </tr>\n",
       "  </thead>\n",
       "  <tbody>\n",
       "    <tr>\n",
       "      <th>0</th>\n",
       "      <td>1</td>\n",
       "      <td>1</td>\n",
       "      <td>15.384615</td>\n",
       "      <td>20.384615</td>\n",
       "      <td>0</td>\n",
       "    </tr>\n",
       "    <tr>\n",
       "      <th>1</th>\n",
       "      <td>3</td>\n",
       "      <td>1</td>\n",
       "      <td>23.076923</td>\n",
       "      <td>28.076923</td>\n",
       "      <td>0</td>\n",
       "    </tr>\n",
       "    <tr>\n",
       "      <th>2</th>\n",
       "      <td>4</td>\n",
       "      <td>1</td>\n",
       "      <td>38.461538</td>\n",
       "      <td>43.461538</td>\n",
       "      <td>1</td>\n",
       "    </tr>\n",
       "    <tr>\n",
       "      <th>3</th>\n",
       "      <td>9</td>\n",
       "      <td>1</td>\n",
       "      <td>30.769231</td>\n",
       "      <td>35.769231</td>\n",
       "      <td>1</td>\n",
       "    </tr>\n",
       "    <tr>\n",
       "      <th>4</th>\n",
       "      <td>10</td>\n",
       "      <td>1</td>\n",
       "      <td>23.076923</td>\n",
       "      <td>28.076923</td>\n",
       "      <td>0</td>\n",
       "    </tr>\n",
       "    <tr>\n",
       "      <th>...</th>\n",
       "      <td>...</td>\n",
       "      <td>...</td>\n",
       "      <td>...</td>\n",
       "      <td>...</td>\n",
       "      <td>...</td>\n",
       "    </tr>\n",
       "    <tr>\n",
       "      <th>3095</th>\n",
       "      <td>11993</td>\n",
       "      <td>0</td>\n",
       "      <td>23.076923</td>\n",
       "      <td>23.076923</td>\n",
       "      <td>0</td>\n",
       "    </tr>\n",
       "    <tr>\n",
       "      <th>3096</th>\n",
       "      <td>11995</td>\n",
       "      <td>0</td>\n",
       "      <td>30.769231</td>\n",
       "      <td>30.769231</td>\n",
       "      <td>1</td>\n",
       "    </tr>\n",
       "    <tr>\n",
       "      <th>3097</th>\n",
       "      <td>11996</td>\n",
       "      <td>0</td>\n",
       "      <td>15.384615</td>\n",
       "      <td>15.384615</td>\n",
       "      <td>0</td>\n",
       "    </tr>\n",
       "    <tr>\n",
       "      <th>3098</th>\n",
       "      <td>11998</td>\n",
       "      <td>0</td>\n",
       "      <td>30.769231</td>\n",
       "      <td>30.769231</td>\n",
       "      <td>1</td>\n",
       "    </tr>\n",
       "    <tr>\n",
       "      <th>3099</th>\n",
       "      <td>12000</td>\n",
       "      <td>0</td>\n",
       "      <td>23.076923</td>\n",
       "      <td>23.076923</td>\n",
       "      <td>0</td>\n",
       "    </tr>\n",
       "  </tbody>\n",
       "</table>\n",
       "<p>3100 rows × 5 columns</p>\n",
       "</div>"
      ],
      "text/plain": [
       "         id  Profession  Skill_Percentage_Required  Percentage  Recommended\n",
       "0         1           1                  15.384615   20.384615            0\n",
       "1         3           1                  23.076923   28.076923            0\n",
       "2         4           1                  38.461538   43.461538            1\n",
       "3         9           1                  30.769231   35.769231            1\n",
       "4        10           1                  23.076923   28.076923            0\n",
       "...     ...         ...                        ...         ...          ...\n",
       "3095  11993           0                  23.076923   23.076923            0\n",
       "3096  11995           0                  30.769231   30.769231            1\n",
       "3097  11996           0                  15.384615   15.384615            0\n",
       "3098  11998           0                  30.769231   30.769231            1\n",
       "3099  12000           0                  23.076923   23.076923            0\n",
       "\n",
       "[3100 rows x 5 columns]"
      ]
     },
     "execution_count": 1,
     "metadata": {},
     "output_type": "execute_result"
    }
   ],
   "source": [
    "import pandas as pd\n",
    "# read data\n",
    "Workers = pd.read_csv(\"../Workers.csv\")\n",
    "Skills = pd.read_csv(\"../WSkills.csv\")\n",
    "# Job Recommended for\n",
    "Job = {'Worker':'Data Scientist'}\n",
    "JobSkills = [{'Skill':'python','Skill_Rating':3},{'Skill':'SQL','Skill_Rating':5},{'Skill':'Cloud','Skill_Rating':2},{'Skill':'HTML','Skill_Rating':3}]\n",
    "\n",
    "JobSkillIds = [skill['Skill'] for skill in JobSkills] # get skills id \n",
    "JobSkillRatingSum = sum([skill['Skill_Rating'] for skill in JobSkills]) # sum Skill Rating\n",
    "# filter and merge Worker data\n",
    "filtered_skills = Skills[Skills['Skill'].isin(JobSkillIds)]# Filter Skills to include skill in JobSkills list\n",
    "worker_skill_ratings = filtered_skills.groupby('Worker')['Skill_Rating'].sum().reset_index()# Group the data by worker and calculate the sum\n",
    "worker_skill_ratings['Skill_Rating'] = worker_skill_ratings['Skill_Rating'].div(JobSkillRatingSum).mul(100)\n",
    "Workers['Profession'] = Workers.apply(lambda x: 1 if x['Profession'].lower().find(Job['Worker'].lower())!=-1 else 0, axis=1)\n",
    "\n",
    "Workers_Data = pd.merge(Workers, worker_skill_ratings, left_on='id', right_on='Worker')\n",
    "Workers_Data = Workers_Data.rename(columns={'Skill_Rating': 'Skill_Percentage_Required'})\n",
    "Workers_Data.drop(['Worker','Rating','Nbr_Rating'], axis=1, inplace=True)\n",
    "# calculate Percentage\n",
    "Workers_Data['Percentage'] = Workers_Data.apply(lambda x: x['Skill_Percentage_Required']+x['Profession']*5, axis=1)\n",
    "Workers_Data['Recommended'] = Workers_Data.apply(lambda x:1 if x['Percentage']>=30 else 0, axis=1)\n",
    "Workers_Data"
   ]
  },
  {
   "cell_type": "code",
   "execution_count": 2,
   "metadata": {},
   "outputs": [],
   "source": [
    " # Train the model\n",
    " # Init\n",
    "Workers_Data.drop(['Percentage'],axis='columns',inplace=True)\n",
    "target = Workers_Data.Recommended # prcise the target\n",
    "inputs = Workers_Data.drop('Recommended',axis='columns') # Init the triening input\n"
   ]
  },
  {
   "cell_type": "code",
   "execution_count": 3,
   "metadata": {},
   "outputs": [],
   "source": [
    " # split dataset to training and testing\n",
    "from sklearn.model_selection import train_test_split\n",
    "X_train, X_test, y_train, y_test = train_test_split(inputs,target,test_size=0.2)\n",
    " # model creat\n",
    "from sklearn.naive_bayes import GaussianNB\n",
    "model = GaussianNB()"
   ]
  },
  {
   "cell_type": "code",
   "execution_count": 4,
   "metadata": {},
   "outputs": [
    {
     "data": {
      "text/plain": [
       "GaussianNB()"
      ]
     },
     "execution_count": 4,
     "metadata": {},
     "output_type": "execute_result"
    }
   ],
   "source": [
    " # Train\n",
    "model.fit(X_train,y_train) # train the model"
   ]
  },
  {
   "cell_type": "code",
   "execution_count": 5,
   "metadata": {},
   "outputs": [
    {
     "data": {
      "text/plain": [
       "1.0"
      ]
     },
     "execution_count": 5,
     "metadata": {},
     "output_type": "execute_result"
    }
   ],
   "source": [
    "model.score(X_test,y_test) # test the model"
   ]
  },
  {
   "cell_type": "code",
   "execution_count": 6,
   "metadata": {
    "scrolled": true
   },
   "outputs": [
    {
     "data": {
      "text/plain": [
       "array([[0.98675058, 0.01324942],\n",
       "       [0.78208   , 0.21792   ],\n",
       "       [0.00189186, 0.99810814],\n",
       "       ...,\n",
       "       [0.98755801, 0.01244199],\n",
       "       [0.10112448, 0.89887552],\n",
       "       [0.79273234, 0.20726766]])"
      ]
     },
     "execution_count": 6,
     "metadata": {},
     "output_type": "execute_result"
    }
   ],
   "source": [
    "model.predict_proba(inputs) # show proba of predections"
   ]
  },
  {
   "cell_type": "code",
   "execution_count": 7,
   "metadata": {},
   "outputs": [],
   "source": [
    "output = model.predict(inputs) # predict if personn servaved or not"
   ]
  },
  {
   "cell_type": "code",
   "execution_count": 8,
   "metadata": {
    "scrolled": false
   },
   "outputs": [
    {
     "data": {
      "text/html": [
       "<div>\n",
       "<style scoped>\n",
       "    .dataframe tbody tr th:only-of-type {\n",
       "        vertical-align: middle;\n",
       "    }\n",
       "\n",
       "    .dataframe tbody tr th {\n",
       "        vertical-align: top;\n",
       "    }\n",
       "\n",
       "    .dataframe thead th {\n",
       "        text-align: right;\n",
       "    }\n",
       "</style>\n",
       "<table border=\"1\" class=\"dataframe\">\n",
       "  <thead>\n",
       "    <tr style=\"text-align: right;\">\n",
       "      <th></th>\n",
       "      <th>id</th>\n",
       "      <th>Profession</th>\n",
       "      <th>Skill_Percentage_Required</th>\n",
       "      <th>predicted_output</th>\n",
       "    </tr>\n",
       "  </thead>\n",
       "  <tbody>\n",
       "    <tr>\n",
       "      <th>0</th>\n",
       "      <td>1</td>\n",
       "      <td>1</td>\n",
       "      <td>15.384615</td>\n",
       "      <td>0</td>\n",
       "    </tr>\n",
       "    <tr>\n",
       "      <th>1</th>\n",
       "      <td>3</td>\n",
       "      <td>1</td>\n",
       "      <td>23.076923</td>\n",
       "      <td>0</td>\n",
       "    </tr>\n",
       "    <tr>\n",
       "      <th>2</th>\n",
       "      <td>4</td>\n",
       "      <td>1</td>\n",
       "      <td>38.461538</td>\n",
       "      <td>1</td>\n",
       "    </tr>\n",
       "    <tr>\n",
       "      <th>3</th>\n",
       "      <td>9</td>\n",
       "      <td>1</td>\n",
       "      <td>30.769231</td>\n",
       "      <td>1</td>\n",
       "    </tr>\n",
       "    <tr>\n",
       "      <th>4</th>\n",
       "      <td>10</td>\n",
       "      <td>1</td>\n",
       "      <td>23.076923</td>\n",
       "      <td>0</td>\n",
       "    </tr>\n",
       "    <tr>\n",
       "      <th>...</th>\n",
       "      <td>...</td>\n",
       "      <td>...</td>\n",
       "      <td>...</td>\n",
       "      <td>...</td>\n",
       "    </tr>\n",
       "    <tr>\n",
       "      <th>3095</th>\n",
       "      <td>11993</td>\n",
       "      <td>0</td>\n",
       "      <td>23.076923</td>\n",
       "      <td>0</td>\n",
       "    </tr>\n",
       "    <tr>\n",
       "      <th>3096</th>\n",
       "      <td>11995</td>\n",
       "      <td>0</td>\n",
       "      <td>30.769231</td>\n",
       "      <td>1</td>\n",
       "    </tr>\n",
       "    <tr>\n",
       "      <th>3097</th>\n",
       "      <td>11996</td>\n",
       "      <td>0</td>\n",
       "      <td>15.384615</td>\n",
       "      <td>0</td>\n",
       "    </tr>\n",
       "    <tr>\n",
       "      <th>3098</th>\n",
       "      <td>11998</td>\n",
       "      <td>0</td>\n",
       "      <td>30.769231</td>\n",
       "      <td>1</td>\n",
       "    </tr>\n",
       "    <tr>\n",
       "      <th>3099</th>\n",
       "      <td>12000</td>\n",
       "      <td>0</td>\n",
       "      <td>23.076923</td>\n",
       "      <td>0</td>\n",
       "    </tr>\n",
       "  </tbody>\n",
       "</table>\n",
       "<p>3100 rows × 4 columns</p>\n",
       "</div>"
      ],
      "text/plain": [
       "         id  Profession  Skill_Percentage_Required  predicted_output\n",
       "0         1           1                  15.384615                 0\n",
       "1         3           1                  23.076923                 0\n",
       "2         4           1                  38.461538                 1\n",
       "3         9           1                  30.769231                 1\n",
       "4        10           1                  23.076923                 0\n",
       "...     ...         ...                        ...               ...\n",
       "3095  11993           0                  23.076923                 0\n",
       "3096  11995           0                  30.769231                 1\n",
       "3097  11996           0                  15.384615                 0\n",
       "3098  11998           0                  30.769231                 1\n",
       "3099  12000           0                  23.076923                 0\n",
       "\n",
       "[3100 rows x 4 columns]"
      ]
     },
     "execution_count": 8,
     "metadata": {},
     "output_type": "execute_result"
    }
   ],
   "source": [
    "concatenated = pd.concat([inputs, pd.DataFrame(output, columns=[\"predicted_output\"])], axis=1)\n",
    "concatenated"
   ]
  },
  {
   "cell_type": "code",
   "execution_count": 9,
   "metadata": {},
   "outputs": [],
   "source": [
    " #Save the model\n",
    "import pickle\n",
    "pickle.dump(model, open('../model_Recommend_Worker.pkl', 'wb'))"
   ]
  },
  {
   "cell_type": "code",
   "execution_count": null,
   "metadata": {},
   "outputs": [],
   "source": []
  }
 ],
 "metadata": {
  "kernelspec": {
   "display_name": "Python 3 (ipykernel)",
   "language": "python",
   "name": "python3"
  },
  "language_info": {
   "codemirror_mode": {
    "name": "ipython",
    "version": 3
   },
   "file_extension": ".py",
   "mimetype": "text/x-python",
   "name": "python",
   "nbconvert_exporter": "python",
   "pygments_lexer": "ipython3",
   "version": "3.9.13"
  }
 },
 "nbformat": 4,
 "nbformat_minor": 2
}
